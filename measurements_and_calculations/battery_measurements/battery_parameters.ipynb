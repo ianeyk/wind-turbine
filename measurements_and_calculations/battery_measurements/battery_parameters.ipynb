{
 "cells": [
  {
   "attachments": {},
   "cell_type": "markdown",
   "metadata": {},
   "source": [
    "# Buck Converter Design\n",
    "**Author:** Ian Eykamp, **Date:** June 20, 2023\n",
    "\n",
    "### Goals\n",
    "To calculate the internal resistance of the 12V marine batteries in our posession in the lab. The link to purchase them is [here](https://www.westmarine.com/west-marine-group-24-dual-purpose-agm-battery-79-amp-hours-15020233.html), and I have not found the datasheet for the batteries yet, with a curve of voltage vs. state of charge (SOC).\n",
    "\n",
    "### Methodology\n",
    "A battery's internal resistance manifests as a small resistance in series with the load. When we measure the battery terminals without anything between them (unloaded case), we get the true voltage of the battery. When we add a load resistor between the terminals, we get a voltage divider consisting of the load resistor and the internal resistance. The voltage across the load resistor $R_2$ is given by $V_{loaded} = V_{unloaded} \\cdot \\frac{R_2}{(R_{internal} + R_2)}$.\n",
    "\n",
    "Thus, the internal resistance can be calculated by $(R_{internal} + R_2) = \\frac{V_{unloaded}}{V_{loaded}} \\cdot R_2$, \n",
    "\n",
    "$R_{internal} = \\frac{V_{unloaded}}{V_{loaded}} \\cdot R_2 - R_2 = (\\frac{V_{unloaded}}{V_{loaded}} - 1) \\cdot R_2$.\n",
    "\n",
    "I connected a 100Ω and a 6.8Ω 5W resistor across the terminals of all three batteries that we have in the lab. The internal resistances for each test are shown below."
   ]
  },
  {
   "cell_type": "code",
   "execution_count": 17,
   "metadata": {},
   "outputs": [],
   "source": [
    "import numpy as np\n",
    "import pandas as pd\n",
    "from pint import UnitRegistry\n",
    "\n",
    "# use pint\n",
    "units = UnitRegistry()\n",
    "units.default_format = \"~P.2f\""
   ]
  },
  {
   "cell_type": "code",
   "execution_count": 18,
   "metadata": {},
   "outputs": [
    {
     "name": "stdout",
     "output_type": "stream",
     "text": [
      "Calculated internal resistance using a 100Ω resistor: [0.07974482 0.39777247 0.07782101]\n",
      "Calculated internal resistance using a 6.8Ω resistor: [0.17222222 0.35729775 0.14031746]\n"
     ]
    }
   ],
   "source": [
    "def calculate_R1(Vin, Vout, R2):\n",
    "    R1 = R2 * (Vin / Vout - 1)\n",
    "    return R1\n",
    "\n",
    "# testing 3 batteries\n",
    "unloaded = np.array([12.55, 12.62, 12.86])\n",
    "loaded_100Ohm = np.array([12.54, 12.57, 12.85])\n",
    "loaded_6_8Ohm = np.array([12.24, 11.99, 12.60])\n",
    "\n",
    "print(f\"Calculated internal resistance using a 100Ω resistor: {calculate_R1(unloaded, loaded_100Ohm, 100)}\")\n",
    "print(f\"Calculated internal resistance using a 6.8Ω resistor: {calculate_R1(unloaded, loaded_6_8Ohm, 6.8)}\")"
   ]
  },
  {
   "cell_type": "markdown",
   "metadata": {},
   "source": [
    "Using a smaller load resistance yields more precise measurements. The 100Ω and 6.8Ω resistors gave similar orders of magnitude.\n",
    "\n",
    "The internal resistance of the first and last batteries is on the order of 100mΩ. This is a typical value for a battery's internal resistance. The middle battery has an abnormally high internal resistance appraoching 400mΩ. This might be a sign that the middle battery is older or damaged."
   ]
  }
 ],
 "metadata": {
  "kernelspec": {
   "display_name": "Python 3",
   "language": "python",
   "name": "python3"
  },
  "language_info": {
   "codemirror_mode": {
    "name": "ipython",
    "version": 3
   },
   "file_extension": ".py",
   "mimetype": "text/x-python",
   "name": "python",
   "nbconvert_exporter": "python",
   "pygments_lexer": "ipython3",
   "version": "3.9.13"
  },
  "orig_nbformat": 4
 },
 "nbformat": 4,
 "nbformat_minor": 2
}
