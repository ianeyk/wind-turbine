{
 "cells": [
  {
   "attachments": {},
   "cell_type": "markdown",
   "metadata": {},
   "source": [
    "# Minimum Buck Converter Voltage Conversion Ratio Calculation\n",
    "**Author:** Ian Eykamp, **Date:** July 11, 2023\n",
    "\n",
    "### Purpose\n",
    "To determine whether a 1kV to 12V buck converter is possible.\n",
    "\n",
    "### Methodology\n",
    "According to this [document](https://www.ti.com/lit/an/slyt293/slyt293.pdf), the lower bound on the buck converter's voltage conversion ratio is driven by the minimum on time $T_{on, min}$, which has to do with the controller's ability to react in time to a quickly rising current. This will affect the controller's minimum possible duty cycle.\n",
    "\n",
    "For a given $T_{on, min}$, we can have a duty cycle of $\\frac{T_{on, min}}{T_s}$, where $T_s = \\frac{1}{F_s}$ is the switching period.\n",
    "\n",
    "This can be confirmed by looking at the inductor's curent waveform. On the inductor rising edge, we have $\\frac{dI_{rise}}{dt} = \\frac{(V_g - V_{out})}{L}$ lasting $T_{on, min}$, and on the falling edge, we have $\\frac{dI_{fall}}{dt} = -\\frac{V_{out}}{L}$ lasting $T_s - T_{on, min}$. Solving for $\\frac{dI_{rise}}{dt} \\cdot T_{on, min} = -\\frac{dI_{fall}}{dt} \\cdot (T_s - T_{on, min})$ gives\n",
    "\n",
    "$\\frac{(V_g - V_{out})}{L} \\cdot T_{on, min} = \\frac{V_{out}}{L} \\cdot (T_s - T_{on, min})$\n",
    "\n",
    "$(V_g - V_{out}) \\cdot T_{on, min} = V_{out} \\cdot (T_s - T_{on, min})$\n",
    "\n",
    "$V_g \\cdot T_{on, min} - V_{out} \\cdot T_{on, min} = V_{out} \\cdot T_s - V_{out} \\cdot T_{on, min}$\n",
    "\n",
    "$V_g \\cdot T_{on, min} = V_{out} \\cdot T_s$\n",
    "\n",
    "$\\frac{T_{on, min}}{T_s} = \\frac{V_{out}}{V_g}$, as expected."
   ]
  },
  {
   "cell_type": "code",
   "execution_count": 6,
   "metadata": {},
   "outputs": [
    {
     "name": "stdout",
     "output_type": "stream",
     "text": [
      "Using matplotlib backend: TkAgg\n"
     ]
    }
   ],
   "source": [
    "import numpy as np\n",
    "import pandas as pd\n",
    "import matplotlib.pyplot as plt\n",
    "import matplotlib.ticker as mtick\n",
    "from UliEngineering.EngineerIO import format_value\n",
    "from si_prefix import si_format\n",
    "import plecs_helper as helper\n",
    "%matplotlib\n",
    "%matplotlib inline\n",
    "\n",
    "# Imports and setup\n",
    "from pint import UnitRegistry\n",
    "\n",
    "# pandas display using scientific notation\n",
    "# pd.set_option('display.float_format', lambda x: f'{x:.3e}')\n",
    "\n",
    "# use pint\n",
    "units = UnitRegistry()\n",
    "units.default_format = \"~P.2f\""
   ]
  },
  {
   "cell_type": "code",
   "execution_count": 7,
   "metadata": {},
   "outputs": [
    {
     "name": "stdout",
     "output_type": "stream",
     "text": [
      "Minimum duty cycle given Tmin_on = 600.00 ns is D = 0.006\n",
      "Desired duty cycle given Vg = 1.00 kV and is Vout = 12.00 V is D = 0.012\n",
      "Minimum output voltage Vout_min = 4.81 V\n"
     ]
    }
   ],
   "source": [
    "Fs = 10 * units.kilohertz\n",
    "Ts = 1 / Fs\n",
    "Tmin_on = 600 * units.nanosecond\n",
    "Dmin = Tmin_on / Ts\n",
    "print(f\"Minimum duty cycle given Tmin_on = {Tmin_on.to_compact(units.second)} is D = {np.round(Dmin.to('').magnitude, 4)}\")\n",
    "\n",
    "\n",
    "Vg = 1000 * units.volt\n",
    "Vout = 12 * units.volt\n",
    "Dwant = Vout / Vg\n",
    "\n",
    "print(f\"Desired duty cycle given Vg = {Vg.to_compact(units.volt)} and is Vout = {Vout.to_compact(units.volt)} is D = {np.round(Dwant.to('').magnitude, 4)}\")\n",
    "\n",
    "Vdiode = 1 * units.volt\n",
    "Rds1 = 100 * units.milliohm\n",
    "RL = 200 * units.milliohm\n",
    "Iout_min = 1 * units.amp\n",
    "Vout_min = Tmin_on * Fs * (Vg - (Iout_min * Rds1 - Vdiode)) - (Iout_min * (RL) + Vdiode)\n",
    "# Vout_min = Tmin_on * Fs * Vg\n",
    "\n",
    "print(f\"Minimum output voltage Vout_min = {Vout_min.to_compact(units.volt)}\")"
   ]
  }
 ],
 "metadata": {
  "kernelspec": {
   "display_name": "Python 3",
   "language": "python",
   "name": "python3"
  },
  "language_info": {
   "codemirror_mode": {
    "name": "ipython",
    "version": 3
   },
   "file_extension": ".py",
   "mimetype": "text/x-python",
   "name": "python",
   "nbconvert_exporter": "python",
   "pygments_lexer": "ipython3",
   "version": "3.9.13"
  },
  "orig_nbformat": 4
 },
 "nbformat": 4,
 "nbformat_minor": 2
}
